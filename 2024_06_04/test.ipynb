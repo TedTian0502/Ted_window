{
 "cells": [
  {
   "cell_type": "code",
   "execution_count": null,
   "metadata": {},
   "outputs": [],
   "source": [
    "from pydantic import BaseModel,RootModel,Field\n",
    "from datetime import datetime\n",
    "from typing import Dict\n",
    "\n",
    "class Site(BaseModel):\n",
    "    sna:str\n",
    "    sarea:str\n",
    "    mday:str\n",
    "    ar:str\n",
    "    act:str\n",
    "    updateTime:str\n",
    "    total:int\n",
    "    available_rent_bikes:int\n",
    "    latitude:float\n",
    "    longitude:float\n",
    "    available_return_bikes:int\n",
    "    \n",
    "# class Records(RootModel):\n",
    "#     root:Dict[str,Site]\n",
    "\n",
    "# records:Records = Records.model_validate(all_data[0])\n",
    "# data = records.model_dump()\n",
    "\n",
    "p1 = Site.model_validate(all_data[0])\n",
    "data = p1.model_dump()\n",
    "data"
   ]
  },
  {
   "cell_type": "code",
   "execution_count": null,
   "metadata": {},
   "outputs": [],
   "source": [
    "data = all_data[0]  # 假設 all_data 是一個列表，並且你想要提取第一個元素作為 Records 模型的數據\n",
    "if isinstance(data, list):\n",
    "    records = Records.model_validate(data)\n",
    "    data = records.model_dump()\n",
    "else:\n",
    "    print(\"Error: Input data should be a list.\")\n",
    "    print(f\"Type of input data: {type(data)}\")"
   ]
  }
 ],
 "metadata": {
  "language_info": {
   "name": "python"
  }
 },
 "nbformat": 4,
 "nbformat_minor": 2
}
