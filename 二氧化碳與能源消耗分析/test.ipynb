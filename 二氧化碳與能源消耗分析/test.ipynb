{
 "cells": [
  {
   "cell_type": "code",
   "execution_count": 1,
   "metadata": {},
   "outputs": [
    {
     "name": "stdout",
     "output_type": "stream",
     "text": [
      "country                            0\n",
      "year                               0\n",
      "iso_code                        7867\n",
      "population                      8001\n",
      "gdp                            32204\n",
      "                               ...  \n",
      "temperature_change_from_n2o     9575\n",
      "total_ghg                      41061\n",
      "total_ghg_excluding_lucf       41061\n",
      "trade_co2                      43017\n",
      "trade_co2_share                43018\n",
      "Length: 79, dtype: int64\n"
     ]
    }
   ],
   "source": [
    "import pandas as pd\n",
    "# 1.確認缺失值\n",
    "#   首先，確認數據集中缺失值的位置和數量。\n",
    "\n",
    "# 加載數據集\n",
    "data = pd.read_csv('C:/Users/user/Documents/GitHub/Ted_window/二氧化碳與能源消耗分析/a.csv')\n",
    "\n",
    "# 查看缺失值情況\n",
    "missing_data = data.isnull().sum()\n",
    "print(missing_data)\n"
   ]
  },
  {
   "cell_type": "code",
   "execution_count": null,
   "metadata": {},
   "outputs": [],
   "source": [
    "# 使用平均值填充缺失值\n",
    "data.fillna(data.mean(), inplace=True)\n",
    "\n",
    "# 使用中位數填充缺失值\n",
    "# data.fillna(data.median(), inplace=True)\n",
    "\n",
    "# 使用眾數填充缺失值\n",
    "# data.fillna(data.mode().iloc[0], inplace=True)\n"
   ]
  },
  {
   "cell_type": "code",
   "execution_count": null,
   "metadata": {},
   "outputs": [],
   "source": [
    "# 2.確認異常值\n",
    "#   使用統計方法或視覺化工具來確認異常值。例如，可以使用箱型圖來識別異常值。\n",
    "\n",
    "import seaborn as sns\n",
    "import matplotlib.pyplot as plt\n",
    "\n",
    "# 繪製箱型圖\n",
    "plt.figure(figsize=(10, 6))\n",
    "sns.boxplot(data=data[['energy_per_capita', 'GDP', 'ghg_per_capita']])\n",
    "plt.title('箱型圖查看異常值')\n",
    "plt.show()\n"
   ]
  }
 ],
 "metadata": {
  "kernelspec": {
   "display_name": "venv1",
   "language": "python",
   "name": "python3"
  },
  "language_info": {
   "codemirror_mode": {
    "name": "ipython",
    "version": 3
   },
   "file_extension": ".py",
   "mimetype": "text/x-python",
   "name": "python",
   "nbconvert_exporter": "python",
   "pygments_lexer": "ipython3",
   "version": "3.10.14"
  }
 },
 "nbformat": 4,
 "nbformat_minor": 2
}
