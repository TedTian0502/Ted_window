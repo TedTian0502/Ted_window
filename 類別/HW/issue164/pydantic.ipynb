{
 "cells": [
  {
   "cell_type": "code",
   "execution_count": 3,
   "metadata": {},
   "outputs": [
    {
     "ename": "ValidationError",
     "evalue": "1 validation error for Person\naddress.projects\n  Field required [type=missing, input_value={'street': '123 Main St',...ld', 'zipcode': '12345'}, input_type=dict]\n    For further information visit https://errors.pydantic.dev/2.7/v/missing",
     "output_type": "error",
     "traceback": [
      "\u001b[1;31m---------------------------------------------------------------------------\u001b[0m",
      "\u001b[1;31mValidationError\u001b[0m                           Traceback (most recent call last)",
      "Cell \u001b[1;32mIn[3], line 39\u001b[0m\n\u001b[0;32m     35\u001b[0m     age:\u001b[38;5;28mint\u001b[39m\n\u001b[0;32m     36\u001b[0m     address:Address\n\u001b[1;32m---> 39\u001b[0m p3 \u001b[38;5;241m=\u001b[39m \u001b[43mPerson\u001b[49m\u001b[38;5;241;43m.\u001b[39;49m\u001b[43mmodel_validate_json\u001b[49m\u001b[43m(\u001b[49m\u001b[43mdata\u001b[49m\u001b[43m)\u001b[49m\n\u001b[0;32m     40\u001b[0m \u001b[38;5;28mprint\u001b[39m(p3)\n",
      "File \u001b[1;32mc:\\Users\\user\\miniconda3\\envs\\venv1\\lib\\site-packages\\pydantic\\main.py:580\u001b[0m, in \u001b[0;36mBaseModel.model_validate_json\u001b[1;34m(cls, json_data, strict, context)\u001b[0m\n\u001b[0;32m    578\u001b[0m \u001b[38;5;66;03m# `__tracebackhide__` tells pytest and some other tools to omit this function from tracebacks\u001b[39;00m\n\u001b[0;32m    579\u001b[0m __tracebackhide__ \u001b[38;5;241m=\u001b[39m \u001b[38;5;28;01mTrue\u001b[39;00m\n\u001b[1;32m--> 580\u001b[0m \u001b[38;5;28;01mreturn\u001b[39;00m \u001b[38;5;28;43mcls\u001b[39;49m\u001b[38;5;241;43m.\u001b[39;49m\u001b[43m__pydantic_validator__\u001b[49m\u001b[38;5;241;43m.\u001b[39;49m\u001b[43mvalidate_json\u001b[49m\u001b[43m(\u001b[49m\u001b[43mjson_data\u001b[49m\u001b[43m,\u001b[49m\u001b[43m \u001b[49m\u001b[43mstrict\u001b[49m\u001b[38;5;241;43m=\u001b[39;49m\u001b[43mstrict\u001b[49m\u001b[43m,\u001b[49m\u001b[43m \u001b[49m\u001b[43mcontext\u001b[49m\u001b[38;5;241;43m=\u001b[39;49m\u001b[43mcontext\u001b[49m\u001b[43m)\u001b[49m\n",
      "\u001b[1;31mValidationError\u001b[0m: 1 validation error for Person\naddress.projects\n  Field required [type=missing, input_value={'street': '123 Main St',...ld', 'zipcode': '12345'}, input_type=dict]\n    For further information visit https://errors.pydantic.dev/2.7/v/missing"
     ]
    }
   ],
   "source": [
    "from pydantic import BaseModel,Field\n",
    "\n",
    "data = '''{\n",
    "    \"name\": \"Alice\",\n",
    "    \"age\": 30,\n",
    "    \"address\": {\n",
    "        \"street\": \"123 Main St\",\n",
    "        \"city\": \"Springfield\",\n",
    "        \"zipcode\": \"12345\"\n",
    "    },\n",
    "    \"projects\": [\n",
    "        {\n",
    "            \"name\": \"Project A\",\n",
    "            \"status\": \"completed\"\n",
    "        },\n",
    "        {\n",
    "            \"name\": \"Project B\",\n",
    "            \"status\": \"ongoing\"\n",
    "        }\n",
    "    ]\n",
    "}\n",
    "'''\n",
    "class Projects (BaseModel):\n",
    "    name:str\n",
    "    status:str\n",
    "\n",
    "class Address (BaseModel):\n",
    "    street:str\n",
    "    city:str\n",
    "    zipcode:str\n",
    "    projects:Projects\n",
    "\n",
    "class Person(BaseModel):\n",
    "    name:str\n",
    "    age:int\n",
    "    address:Address\n",
    "    \n",
    "\n",
    "p3 = Person.model_validate(data)\n",
    "print(p3)\n"
   ]
  },
  {
   "cell_type": "code",
   "execution_count": null,
   "metadata": {},
   "outputs": [],
   "source": []
  }
 ],
 "metadata": {
  "kernelspec": {
   "display_name": "venv1",
   "language": "python",
   "name": "python3"
  },
  "language_info": {
   "codemirror_mode": {
    "name": "ipython",
    "version": 3
   },
   "file_extension": ".py",
   "mimetype": "text/x-python",
   "name": "python",
   "nbconvert_exporter": "python",
   "pygments_lexer": "ipython3",
   "version": "3.10.14"
  }
 },
 "nbformat": 4,
 "nbformat_minor": 2
}
