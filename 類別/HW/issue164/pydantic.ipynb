{
 "cells": [
  {
   "cell_type": "code",
   "execution_count": 5,
   "metadata": {},
   "outputs": [
    {
     "name": "stdout",
     "output_type": "stream",
     "text": [
      "1 validation error for Person\n",
      "  Input should be a valid dictionary or instance of Person [type=model_type, input_value='{\\n    \"name\": \"Alice\",\\...\\n        }\\n    ]\\n}\\n', input_type=str]\n",
      "    For further information visit https://errors.pydantic.dev/2.7/v/model_type\n"
     ]
    }
   ],
   "source": [
    "from pydantic import BaseModel, Field, ValidationError\n",
    "\n",
    "data:dict = '''{\n",
    "    \"name\": \"Alice\",\n",
    "    \"age\": 30,\n",
    "    \"address\": {\n",
    "        \"street\": \"123 Main St\",\n",
    "        \"city\": \"Springfield\",\n",
    "        \"zipcode\": \"12345\"\n",
    "    },\n",
    "    \"projects\": [\n",
    "        {\n",
    "            \"name\": \"Project A\",\n",
    "            \"status\": \"completed\"\n",
    "        },\n",
    "        {\n",
    "            \"name\": \"Project B\",\n",
    "            \"status\": \"ongoing\"\n",
    "        }\n",
    "    ]\n",
    "}\n",
    "'''\n",
    "\n",
    "class Projects(BaseModel):\n",
    "    name: str\n",
    "    status: str\n",
    "\n",
    "class Address(BaseModel):\n",
    "    street: str\n",
    "    city: str\n",
    "    zipcode: str\n",
    "    projects: Projects\n",
    "\n",
    "class Person(BaseModel):\n",
    "    name: str\n",
    "    age: int\n",
    "    address: Address\n",
    "\n",
    "\n",
    "try:\n",
    "    p3 = Person.validate(data)\n",
    "    print(p3)\n",
    "except ValidationError as e:\n",
    "    print(e)\n",
    "\n"
   ]
  }
 ],
 "metadata": {
  "kernelspec": {
   "display_name": "venv1",
   "language": "python",
   "name": "python3"
  },
  "language_info": {
   "codemirror_mode": {
    "name": "ipython",
    "version": 3
   },
   "file_extension": ".py",
   "mimetype": "text/x-python",
   "name": "python",
   "nbconvert_exporter": "python",
   "pygments_lexer": "ipython3",
   "version": "3.10.14"
  }
 },
 "nbformat": 4,
 "nbformat_minor": 2
}
